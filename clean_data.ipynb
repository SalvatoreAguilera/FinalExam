{
  "nbformat": 4,
  "nbformat_minor": 0,
  "metadata": {
    "colab": {
      "provenance": []
    },
    "kernelspec": {
      "name": "ir",
      "display_name": "R"
    },
    "language_info": {
      "name": "R"
    }
  },
  "cells": [
    {
      "cell_type": "code",
      "source": [
        "#install packages\n",
        "install.packages(\"palmerpenguins\")\n",
        "install.packages(\"dplyr\")\n",
        "install.packages(\"tidyr\")\n"
      ],
      "metadata": {
        "colab": {
          "base_uri": "https://localhost:8080/"
        },
        "id": "499xaCSnbfO1",
        "outputId": "ce84e929-c45d-4647-ce20-e22790106edb"
      },
      "execution_count": 3,
      "outputs": [
        {
          "output_type": "stream",
          "name": "stderr",
          "text": [
            "Installing package into ‘/usr/local/lib/R/site-library’\n",
            "(as ‘lib’ is unspecified)\n",
            "\n",
            "Installing package into ‘/usr/local/lib/R/site-library’\n",
            "(as ‘lib’ is unspecified)\n",
            "\n",
            "Installing package into ‘/usr/local/lib/R/site-library’\n",
            "(as ‘lib’ is unspecified)\n",
            "\n"
          ]
        }
      ]
    },
    {
      "cell_type": "code",
      "execution_count": 21,
      "metadata": {
        "colab": {
          "base_uri": "https://localhost:8080/",
          "height": 738
        },
        "id": "7MDdRVa4bJPm",
        "outputId": "bce4c67b-2180-4d99-a0f4-e385a95b5a7d"
      },
      "outputs": [
        {
          "output_type": "stream",
          "name": "stdout",
          "text": [
            "tibble [344 × 8] (S3: tbl_df/tbl/data.frame)\n",
            " $ species          : Factor w/ 3 levels \"Adelie\",\"Chinstrap\",..: 1 1 1 1 1 1 1 1 1 1 ...\n",
            " $ island           : Factor w/ 3 levels \"Biscoe\",\"Dream\",..: 3 3 3 3 3 3 3 3 3 3 ...\n",
            " $ bill_length_mm   : num [1:344] 39.1 39.5 40.3 NA 36.7 39.3 38.9 39.2 34.1 42 ...\n",
            " $ bill_depth_mm    : num [1:344] 18.7 17.4 18 NA 19.3 20.6 17.8 19.6 18.1 20.2 ...\n",
            " $ flipper_length_mm: int [1:344] 181 186 195 NA 193 190 181 195 193 190 ...\n",
            " $ body_mass_g      : int [1:344] 3750 3800 3250 NA 3450 3650 3625 4675 3475 4250 ...\n",
            " $ sex              : Factor w/ 2 levels \"female\",\"male\": 2 1 1 NA 1 2 1 2 NA NA ...\n",
            " $ year             : int [1:344] 2007 2007 2007 2007 2007 2007 2007 2007 2007 2007 ...\n"
          ]
        },
        {
          "output_type": "display_data",
          "data": {
            "text/plain": [
              "      species          island    bill_length_mm  bill_depth_mm  \n",
              " Adelie   :152   Biscoe   :168   Min.   :32.10   Min.   :13.10  \n",
              " Chinstrap: 68   Dream    :124   1st Qu.:39.23   1st Qu.:15.60  \n",
              " Gentoo   :124   Torgersen: 52   Median :44.45   Median :17.30  \n",
              "                                 Mean   :43.92   Mean   :17.15  \n",
              "                                 3rd Qu.:48.50   3rd Qu.:18.70  \n",
              "                                 Max.   :59.60   Max.   :21.50  \n",
              "                                 NA's   :2       NA's   :2      \n",
              " flipper_length_mm  body_mass_g       sex           year     \n",
              " Min.   :172.0     Min.   :2700   female:165   Min.   :2007  \n",
              " 1st Qu.:190.0     1st Qu.:3550   male  :168   1st Qu.:2007  \n",
              " Median :197.0     Median :4050   NA's  : 11   Median :2008  \n",
              " Mean   :200.9     Mean   :4202                Mean   :2008  \n",
              " 3rd Qu.:213.0     3rd Qu.:4750                3rd Qu.:2009  \n",
              " Max.   :231.0     Max.   :6300                Max.   :2009  \n",
              " NA's   :2         NA's   :2                                 "
            ]
          },
          "metadata": {}
        },
        {
          "output_type": "display_data",
          "data": {
            "text/html": [
              "19"
            ],
            "text/markdown": "19",
            "text/latex": "19",
            "text/plain": [
              "[1] 19"
            ]
          },
          "metadata": {}
        },
        {
          "output_type": "display_data",
          "data": {
            "text/html": [
              "<table class=\"dataframe\">\n",
              "<caption>A tibble: 6 × 8</caption>\n",
              "<thead>\n",
              "\t<tr><th scope=col>species</th><th scope=col>island</th><th scope=col>bill_length_mm</th><th scope=col>bill_depth_mm</th><th scope=col>flipper_length_mm</th><th scope=col>body_mass_g</th><th scope=col>sex</th><th scope=col>year</th></tr>\n",
              "\t<tr><th scope=col>&lt;fct&gt;</th><th scope=col>&lt;fct&gt;</th><th scope=col>&lt;dbl&gt;</th><th scope=col>&lt;dbl&gt;</th><th scope=col>&lt;int&gt;</th><th scope=col>&lt;int&gt;</th><th scope=col>&lt;fct&gt;</th><th scope=col>&lt;int&gt;</th></tr>\n",
              "</thead>\n",
              "<tbody>\n",
              "\t<tr><td>Chinstrap</td><td>Dream</td><td>45.7</td><td>17.0</td><td>195</td><td>3650</td><td>female</td><td>2009</td></tr>\n",
              "\t<tr><td>Chinstrap</td><td>Dream</td><td>55.8</td><td>19.8</td><td>207</td><td>4000</td><td>male  </td><td>2009</td></tr>\n",
              "\t<tr><td>Chinstrap</td><td>Dream</td><td>43.5</td><td>18.1</td><td>202</td><td>3400</td><td>female</td><td>2009</td></tr>\n",
              "\t<tr><td>Chinstrap</td><td>Dream</td><td>49.6</td><td>18.2</td><td>193</td><td>3775</td><td>male  </td><td>2009</td></tr>\n",
              "\t<tr><td>Chinstrap</td><td>Dream</td><td>50.8</td><td>19.0</td><td>210</td><td>4100</td><td>male  </td><td>2009</td></tr>\n",
              "\t<tr><td>Chinstrap</td><td>Dream</td><td>50.2</td><td>18.7</td><td>198</td><td>3775</td><td>female</td><td>2009</td></tr>\n",
              "</tbody>\n",
              "</table>\n"
            ],
            "text/markdown": "\nA tibble: 6 × 8\n\n| species &lt;fct&gt; | island &lt;fct&gt; | bill_length_mm &lt;dbl&gt; | bill_depth_mm &lt;dbl&gt; | flipper_length_mm &lt;int&gt; | body_mass_g &lt;int&gt; | sex &lt;fct&gt; | year &lt;int&gt; |\n|---|---|---|---|---|---|---|---|\n| Chinstrap | Dream | 45.7 | 17.0 | 195 | 3650 | female | 2009 |\n| Chinstrap | Dream | 55.8 | 19.8 | 207 | 4000 | male   | 2009 |\n| Chinstrap | Dream | 43.5 | 18.1 | 202 | 3400 | female | 2009 |\n| Chinstrap | Dream | 49.6 | 18.2 | 193 | 3775 | male   | 2009 |\n| Chinstrap | Dream | 50.8 | 19.0 | 210 | 4100 | male   | 2009 |\n| Chinstrap | Dream | 50.2 | 18.7 | 198 | 3775 | female | 2009 |\n\n",
            "text/latex": "A tibble: 6 × 8\n\\begin{tabular}{llllllll}\n species & island & bill\\_length\\_mm & bill\\_depth\\_mm & flipper\\_length\\_mm & body\\_mass\\_g & sex & year\\\\\n <fct> & <fct> & <dbl> & <dbl> & <int> & <int> & <fct> & <int>\\\\\n\\hline\n\t Chinstrap & Dream & 45.7 & 17.0 & 195 & 3650 & female & 2009\\\\\n\t Chinstrap & Dream & 55.8 & 19.8 & 207 & 4000 & male   & 2009\\\\\n\t Chinstrap & Dream & 43.5 & 18.1 & 202 & 3400 & female & 2009\\\\\n\t Chinstrap & Dream & 49.6 & 18.2 & 193 & 3775 & male   & 2009\\\\\n\t Chinstrap & Dream & 50.8 & 19.0 & 210 & 4100 & male   & 2009\\\\\n\t Chinstrap & Dream & 50.2 & 18.7 & 198 & 3775 & female & 2009\\\\\n\\end{tabular}\n",
            "text/plain": [
              "  species   island bill_length_mm bill_depth_mm flipper_length_mm body_mass_g\n",
              "1 Chinstrap Dream  45.7           17.0          195               3650       \n",
              "2 Chinstrap Dream  55.8           19.8          207               4000       \n",
              "3 Chinstrap Dream  43.5           18.1          202               3400       \n",
              "4 Chinstrap Dream  49.6           18.2          193               3775       \n",
              "5 Chinstrap Dream  50.8           19.0          210               4100       \n",
              "6 Chinstrap Dream  50.2           18.7          198               3775       \n",
              "  sex    year\n",
              "1 female 2009\n",
              "2 male   2009\n",
              "3 female 2009\n",
              "4 male   2009\n",
              "5 male   2009\n",
              "6 female 2009"
            ]
          },
          "metadata": {}
        }
      ],
      "source": [
        "#load librarys and visualize initial data\n",
        "library(palmerpenguins)\n",
        "library(dplyr)\n",
        "library(tidyr)\n",
        "\n",
        "data(\"penguins\")\n",
        "\n",
        "str(penguins)\n",
        "summary(penguins)\n",
        "sum(is.na(penguins))\n",
        "tail(penguins)\n"
      ]
    },
    {
      "cell_type": "code",
      "source": [
        "#replace numerics with medians based on species and island\n",
        "# I am using species and island because species attributes could\n",
        "# depending on their island\n",
        "penguins <- penguins %>%\n",
        "  group_by(species, island) %>%\n",
        "  mutate(across(where(is.numeric), ~ ifelse(is.na(.), median(., na.rm = TRUE), .)))\n",
        "\n",
        "#character sex\n",
        "penguins <- penguins %>%\n",
        "  mutate(sex = as.character(sex))\n",
        "\n",
        "#get the mode for sex\n",
        "#I am replacing by mode because instead of using\n",
        "# K-means clustering since its more simple\n",
        "get_mode <- function(x) {\n",
        "  uniqx <- unique(x[!is.na(x)])\n",
        "  uniqx[which.max(tabulate(match(x, uniqx)))]\n",
        "}\n",
        "\n",
        "#replace sex with mode if na\n",
        "penguins <- penguins %>%\n",
        "  group_by(species) %>%\n",
        "  mutate(\n",
        "    sex = ifelse(is.na(sex), get_mode(sex), sex)\n",
        "  ) %>%\n",
        "  ungroup()\n",
        "\n",
        "sum(is.na(penguins))\n",
        "\n",
        "head(penguins)\n"
      ],
      "metadata": {
        "colab": {
          "base_uri": "https://localhost:8080/",
          "height": 304
        },
        "id": "E8cJ6RWgbNNC",
        "outputId": "0e7a7b95-5705-47a9-8902-cedde3f44a3e"
      },
      "execution_count": 24,
      "outputs": [
        {
          "output_type": "display_data",
          "data": {
            "text/html": [
              "0"
            ],
            "text/markdown": "0",
            "text/latex": "0",
            "text/plain": [
              "[1] 0"
            ]
          },
          "metadata": {}
        },
        {
          "output_type": "display_data",
          "data": {
            "text/html": [
              "<table class=\"dataframe\">\n",
              "<caption>A tibble: 6 × 8</caption>\n",
              "<thead>\n",
              "\t<tr><th scope=col>species</th><th scope=col>island</th><th scope=col>bill_length_mm</th><th scope=col>bill_depth_mm</th><th scope=col>flipper_length_mm</th><th scope=col>body_mass_g</th><th scope=col>sex</th><th scope=col>year</th></tr>\n",
              "\t<tr><th scope=col>&lt;fct&gt;</th><th scope=col>&lt;fct&gt;</th><th scope=col>&lt;dbl&gt;</th><th scope=col>&lt;dbl&gt;</th><th scope=col>&lt;int&gt;</th><th scope=col>&lt;int&gt;</th><th scope=col>&lt;chr&gt;</th><th scope=col>&lt;int&gt;</th></tr>\n",
              "</thead>\n",
              "<tbody>\n",
              "\t<tr><td>Adelie</td><td>Torgersen</td><td>39.1</td><td>18.7</td><td>181</td><td>3750</td><td>male  </td><td>2007</td></tr>\n",
              "\t<tr><td>Adelie</td><td>Torgersen</td><td>39.5</td><td>17.4</td><td>186</td><td>3800</td><td>female</td><td>2007</td></tr>\n",
              "\t<tr><td>Adelie</td><td>Torgersen</td><td>40.3</td><td>18.0</td><td>195</td><td>3250</td><td>female</td><td>2007</td></tr>\n",
              "\t<tr><td>Adelie</td><td>Torgersen</td><td>38.8</td><td>18.4</td><td>190</td><td>3700</td><td>male  </td><td>2007</td></tr>\n",
              "\t<tr><td>Adelie</td><td>Torgersen</td><td>36.7</td><td>19.3</td><td>193</td><td>3450</td><td>female</td><td>2007</td></tr>\n",
              "\t<tr><td>Adelie</td><td>Torgersen</td><td>39.3</td><td>20.6</td><td>190</td><td>3650</td><td>male  </td><td>2007</td></tr>\n",
              "</tbody>\n",
              "</table>\n"
            ],
            "text/markdown": "\nA tibble: 6 × 8\n\n| species &lt;fct&gt; | island &lt;fct&gt; | bill_length_mm &lt;dbl&gt; | bill_depth_mm &lt;dbl&gt; | flipper_length_mm &lt;int&gt; | body_mass_g &lt;int&gt; | sex &lt;chr&gt; | year &lt;int&gt; |\n|---|---|---|---|---|---|---|---|\n| Adelie | Torgersen | 39.1 | 18.7 | 181 | 3750 | male   | 2007 |\n| Adelie | Torgersen | 39.5 | 17.4 | 186 | 3800 | female | 2007 |\n| Adelie | Torgersen | 40.3 | 18.0 | 195 | 3250 | female | 2007 |\n| Adelie | Torgersen | 38.8 | 18.4 | 190 | 3700 | male   | 2007 |\n| Adelie | Torgersen | 36.7 | 19.3 | 193 | 3450 | female | 2007 |\n| Adelie | Torgersen | 39.3 | 20.6 | 190 | 3650 | male   | 2007 |\n\n",
            "text/latex": "A tibble: 6 × 8\n\\begin{tabular}{llllllll}\n species & island & bill\\_length\\_mm & bill\\_depth\\_mm & flipper\\_length\\_mm & body\\_mass\\_g & sex & year\\\\\n <fct> & <fct> & <dbl> & <dbl> & <int> & <int> & <chr> & <int>\\\\\n\\hline\n\t Adelie & Torgersen & 39.1 & 18.7 & 181 & 3750 & male   & 2007\\\\\n\t Adelie & Torgersen & 39.5 & 17.4 & 186 & 3800 & female & 2007\\\\\n\t Adelie & Torgersen & 40.3 & 18.0 & 195 & 3250 & female & 2007\\\\\n\t Adelie & Torgersen & 38.8 & 18.4 & 190 & 3700 & male   & 2007\\\\\n\t Adelie & Torgersen & 36.7 & 19.3 & 193 & 3450 & female & 2007\\\\\n\t Adelie & Torgersen & 39.3 & 20.6 & 190 & 3650 & male   & 2007\\\\\n\\end{tabular}\n",
            "text/plain": [
              "  species island    bill_length_mm bill_depth_mm flipper_length_mm body_mass_g\n",
              "1 Adelie  Torgersen 39.1           18.7          181               3750       \n",
              "2 Adelie  Torgersen 39.5           17.4          186               3800       \n",
              "3 Adelie  Torgersen 40.3           18.0          195               3250       \n",
              "4 Adelie  Torgersen 38.8           18.4          190               3700       \n",
              "5 Adelie  Torgersen 36.7           19.3          193               3450       \n",
              "6 Adelie  Torgersen 39.3           20.6          190               3650       \n",
              "  sex    year\n",
              "1 male   2007\n",
              "2 female 2007\n",
              "3 female 2007\n",
              "4 male   2007\n",
              "5 female 2007\n",
              "6 male   2007"
            ]
          },
          "metadata": {}
        }
      ]
    },
    {
      "cell_type": "code",
      "source": [
        "write.csv(penguins, \"cleaned_penguins.csv\", row.names = FALSE)\n"
      ],
      "metadata": {
        "id": "ZBK_btgccb63"
      },
      "execution_count": 25,
      "outputs": []
    },
    {
      "cell_type": "code",
      "source": [],
      "metadata": {
        "id": "jMFEu9dpgQrh"
      },
      "execution_count": null,
      "outputs": []
    }
  ]
}